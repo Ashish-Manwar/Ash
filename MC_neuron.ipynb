{
  "nbformat": 4,
  "nbformat_minor": 0,
  "metadata": {
    "colab": {
      "provenance": [],
      "authorship_tag": "ABX9TyMr4/Nr2bYcSQc3Dja0a4fX",
      "include_colab_link": true
    },
    "kernelspec": {
      "name": "python3",
      "display_name": "Python 3"
    },
    "language_info": {
      "name": "python"
    }
  },
  "cells": [
    {
      "cell_type": "markdown",
      "metadata": {
        "id": "view-in-github",
        "colab_type": "text"
      },
      "source": [
        "<a href=\"https://colab.research.google.com/github/Ashish-Manwar/Ash/blob/master/MC_neuron.ipynb\" target=\"_parent\"><img src=\"https://colab.research.google.com/assets/colab-badge.svg\" alt=\"Open In Colab\"/></a>"
      ]
    },
    {
      "cell_type": "markdown",
      "source": [
        "\n",
        "## All the gate\n",
        "\n"
      ],
      "metadata": {
        "id": "YMGvOsp7AsDZ"
      }
    },
    {
      "cell_type": "code",
      "execution_count": 22,
      "metadata": {
        "id": "kgVjO7kFuNt0",
        "colab": {
          "base_uri": "https://localhost:8080/"
        },
        "outputId": "40f9773c-51cf-45ce-dcd5-9f5ddfed267c"
      },
      "outputs": [
        {
          "output_type": "stream",
          "name": "stdout",
          "text": [
            "[[0, 0], [0, 1], [1, 0], [1, 1]]\n"
          ]
        }
      ],
      "source": [
        "AND = {'X':[[0,0],[0,1],[1,0],[1,1]], 'Y': [0,0,0,1]}\n",
        "OR = {'X':[[0,0],[0,1],[1,0],[1,1]], 'Y': [0,1,1,1]}\n",
        "NOT = {'X':[[0],[1]], 'Y': [0,1]}\n",
        "NAND = {'X':[[0,0],[0,1],[1,0],[1,1]], 'Y': [1,1,1,0]}\n",
        "XOR = {'X':[[0,0],[0,1],[1,0],[1,1]], 'Y': [0,1,1,0]}\n",
        "NOR = {'X':[[0,0],[0,1],[1,0],[1,1]], 'Y': [1,0,0,0]}\n",
        "\n",
        "print(((AND['X'])))"
      ]
    },
    {
      "cell_type": "markdown",
      "source": [
        "Class of MP neuron"
      ],
      "metadata": {
        "id": "EbLh-HiYLyAm"
      }
    },
    {
      "cell_type": "code",
      "source": [
        "import matplotlib.pyplot as plt\n",
        "\n",
        "class McCullochPittsNeuron:\n",
        "    def __init__(self, num_inputs, threshold=0, learning_rate=0.1):\n",
        "        \"\"\"\n",
        "        Initialize the MP Neuron with a specified number of inputs, threshold, and learning rate.\n",
        "\n",
        "        :param num_inputs: Number of input signals.\n",
        "        :param threshold: The initial activation threshold for the neuron.\n",
        "        :param learning_rate: The rate at which the neuron learns during training.\n",
        "        \"\"\"\n",
        "        self.num_inputs = num_inputs\n",
        "        self.threshold = threshold\n",
        "        self.learning_rate = learning_rate\n",
        "        # Initialize all weights to 1 (excitatory)\n",
        "        self.weights = [1] * num_inputs\n",
        "\n",
        "    def set_inhibitory(self, inhibitory_indices):\n",
        "        \"\"\"\n",
        "        Set specified inputs as inhibitory by assigning a weight of -1.\n",
        "\n",
        "        :param inhibitory_indices: List of indices corresponding to inhibitory inputs.\n",
        "        \"\"\"\n",
        "        for index in inhibitory_indices:\n",
        "            if 0 <= index < self.num_inputs:\n",
        "                self.weights[index] = -1\n",
        "            else:\n",
        "                raise IndexError(f\"Input index {index} is out of range.\")\n",
        "\n",
        "    def activate(self, inputs):\n",
        "        \"\"\"\n",
        "        Compute the output of the neuron based on inputs.\n",
        "\n",
        "        :param inputs: List of binary inputs (0 or 1).\n",
        "        :return: Output of the neuron (0 or 1).\n",
        "        \"\"\"\n",
        "        if len(inputs) != self.num_inputs:\n",
        "            raise ValueError(f\"Expected {self.num_inputs} inputs, but got {len(inputs)}.\")\n",
        "\n",
        "        # Calculate the weighted sum of inputs\n",
        "        weighted_sum = sum(w * i for w, i in zip(self.weights, inputs))\n",
        "\n",
        "        # Apply the threshold function\n",
        "        return 1 if weighted_sum >= self.threshold else 0\n",
        "\n",
        "    def train(self, training_data, labels, epochs=100):\n",
        "        \"\"\"\n",
        "        Train the neuron using a simple learning algorithm that adjusts the threshold.\n",
        "\n",
        "        :param training_data: List of input vectors.\n",
        "        :param labels: List of expected outputs corresponding to the training data.\n",
        "        :param epochs: Number of times to iterate over the training set.\n",
        "        \"\"\"\n",
        "        loss_history = []\n",
        "\n",
        "        for epoch in range(epochs):\n",
        "            total_error = 0\n",
        "            for inputs, label in zip(training_data, labels):\n",
        "                prediction = self.activate(inputs)\n",
        "                error = label - prediction\n",
        "                total_error += abs(error)\n",
        "                # Update the threshold based on the error\n",
        "            loss_history.append(total_error / len(training_data))\n",
        "            print(f\"Epoch {epoch + 1}/{epochs}, Loss: {loss_history[-1]},Threshold : {self.threshold}\")\n",
        "            if total_error == 0:\n",
        "                break\n",
        "            self.threshold += 1\n",
        "\n",
        ""
      ],
      "metadata": {
        "colab": {
          "base_uri": "https://localhost:8080/"
        },
        "id": "F1uKQ4dWLqJi",
        "outputId": "11a62661-d825-4dc2-85ac-e8af34815b0e"
      },
      "execution_count": 23,
      "outputs": [
        {
          "output_type": "stream",
          "name": "stdout",
          "text": [
            "Epoch 1/10, Loss: 0.25,Threshold : 0\n",
            "Epoch 2/10, Loss: 0.0,Threshold : 1\n",
            "AND Gate Simulation:\n",
            "Inputs: [0, 0], Output: 0\n",
            "Inputs: [0, 1], Output: 1\n",
            "Inputs: [1, 0], Output: 1\n",
            "Inputs: [1, 1], Output: 1\n"
          ]
        }
      ]
    },
    {
      "cell_type": "code",
      "source": [
        "mp_neuron_AND = McCullochPittsNeuron(num_inputs=2, threshold=0, learning_rate=0.1)\n",
        "mp_neuron_AND.train(AND['X'], AND['Y'], epochs=10)\n",
        "print(\"AND Gate Simulation:\")\n",
        "for inputs in AND['X']:\n",
        "    output = mp_neuron_AND.activate(inputs)\n",
        "    print(f\"Inputs: {inputs}, Output: {output}\")"
      ],
      "metadata": {
        "colab": {
          "base_uri": "https://localhost:8080/"
        },
        "id": "Bex4oVObW6wn",
        "outputId": "2ec6d372-45a5-4c0e-e468-d10dd7e7c395"
      },
      "execution_count": 25,
      "outputs": [
        {
          "output_type": "stream",
          "name": "stdout",
          "text": [
            "Epoch 1/10, Loss: 0.75,Threshold : 0\n",
            "Epoch 2/10, Loss: 0.5,Threshold : 1\n",
            "Epoch 3/10, Loss: 0.0,Threshold : 2\n",
            "AND Gate Simulation:\n",
            "Inputs: [0, 0], Output: 0\n",
            "Inputs: [0, 1], Output: 0\n",
            "Inputs: [1, 0], Output: 0\n",
            "Inputs: [1, 1], Output: 1\n"
          ]
        }
      ]
    },
    {
      "cell_type": "code",
      "source": [
        "mp_neuron_OR = McCullochPittsNeuron(num_inputs=2, threshold=0, learning_rate=0.1)\n",
        "mp_neuron_OR.train(OR['X'], OR['Y'], epochs=10)\n",
        "print(\"OR Gate Simulation:\")\n",
        "for inputs in OR['X']:\n",
        "    output = mp_neuron_OR.activate(inputs)\n",
        "    print(f\"Inputs: {inputs}, Output: {output}\")\n",
        ""
      ],
      "metadata": {
        "colab": {
          "base_uri": "https://localhost:8080/"
        },
        "id": "sn-KOFb6hp6G",
        "outputId": "a7b24786-b0a5-4767-b736-b2d597a77f7b"
      },
      "execution_count": 26,
      "outputs": [
        {
          "output_type": "stream",
          "name": "stdout",
          "text": [
            "Epoch 1/10, Loss: 0.25,Threshold : 0\n",
            "Epoch 2/10, Loss: 0.0,Threshold : 1\n",
            "OR Gate Simulation:\n",
            "Inputs: [0, 0], Output: 0\n",
            "Inputs: [0, 1], Output: 1\n",
            "Inputs: [1, 0], Output: 1\n",
            "Inputs: [1, 1], Output: 1\n"
          ]
        }
      ]
    },
    {
      "cell_type": "code",
      "source": [
        "mp_neuron_NOT = McCullochPittsNeuron(num_inputs=1, threshold=0, learning_rate=0.1)\n",
        "mp_neuron_NOT.train(NOT['X'], NOT['Y'], epochs=10)\n",
        "print(\"NOT Gate Simulation:\")\n",
        "for inputs in NOT['X']:\n",
        "    output = mp_neuron_NOT.activate(inputs)\n",
        "    print(f\"Inputs: {inputs}, Output: {output}\")"
      ],
      "metadata": {
        "colab": {
          "base_uri": "https://localhost:8080/"
        },
        "id": "9yZHzUU8hzYj",
        "outputId": "d58ea890-34de-415d-a542-6dae8dc8d213"
      },
      "execution_count": 27,
      "outputs": [
        {
          "output_type": "stream",
          "name": "stdout",
          "text": [
            "Epoch 1/10, Loss: 0.5,Threshold : 0\n",
            "Epoch 2/10, Loss: 0.0,Threshold : 1\n",
            "NOT Gate Simulation:\n",
            "Inputs: [0], Output: 0\n",
            "Inputs: [1], Output: 1\n"
          ]
        }
      ]
    },
    {
      "cell_type": "code",
      "source": [
        "mp_neuron_NAND = McCullochPittsNeuron(num_inputs=2, threshold=-3, learning_rate=0.1)\n",
        "mp_neuron_NAND.set_inhibitory([0])\n",
        "mp_neuron_NAND.set_inhibitory([1])\n",
        "mp_neuron_NAND.train(NAND['X'], NAND['Y'], epochs=10)\n",
        "print(\"NAND Gate Simulation:\")\n",
        "for inputs in NAND['X']:\n",
        "    output = mp_neuron_NAND.activate(inputs)\n",
        "    print(f\"Inputs: {inputs}, Output: {output}\")\n"
      ],
      "metadata": {
        "colab": {
          "base_uri": "https://localhost:8080/"
        },
        "id": "WbhcKheqh8_7",
        "outputId": "93013244-12bf-4c8c-c9ad-5b3dd40fbb25"
      },
      "execution_count": 31,
      "outputs": [
        {
          "output_type": "stream",
          "name": "stdout",
          "text": [
            "Epoch 1/10, Loss: 0.25,Threshold : -3\n",
            "Epoch 2/10, Loss: 0.25,Threshold : -2\n",
            "Epoch 3/10, Loss: 0.0,Threshold : -1\n",
            "NAND Gate Simulation:\n",
            "Inputs: [0, 0], Output: 1\n",
            "Inputs: [0, 1], Output: 1\n",
            "Inputs: [1, 0], Output: 1\n",
            "Inputs: [1, 1], Output: 0\n"
          ]
        }
      ]
    }
  ]
}