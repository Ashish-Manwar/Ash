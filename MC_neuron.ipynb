{
  "nbformat": 4,
  "nbformat_minor": 0,
  "metadata": {
    "colab": {
      "provenance": [],
      "authorship_tag": "ABX9TyOaE0eaemZvfNqJ3NH9yNpY",
      "include_colab_link": true
    },
    "kernelspec": {
      "name": "python3",
      "display_name": "Python 3"
    },
    "language_info": {
      "name": "python"
    }
  },
  "cells": [
    {
      "cell_type": "markdown",
      "metadata": {
        "id": "view-in-github",
        "colab_type": "text"
      },
      "source": [
        "<a href=\"https://colab.research.google.com/github/Ashish-Manwar/Ash/blob/master/MC_neuron.ipynb\" target=\"_parent\"><img src=\"https://colab.research.google.com/assets/colab-badge.svg\" alt=\"Open In Colab\"/></a>"
      ]
    },
    {
      "cell_type": "markdown",
      "source": [
        "\n",
        "## All the gate\n",
        "\n"
      ],
      "metadata": {
        "id": "YMGvOsp7AsDZ"
      }
    },
    {
      "cell_type": "code",
      "execution_count": 21,
      "metadata": {
        "id": "kgVjO7kFuNt0",
        "colab": {
          "base_uri": "https://localhost:8080/"
        },
        "outputId": "2bfc4b6a-e2b4-40cd-db9a-5504b7112ccf"
      },
      "outputs": [
        {
          "output_type": "stream",
          "name": "stdout",
          "text": [
            "[[0, 0], [0, 1], [1, 0], [1, 1]]\n"
          ]
        }
      ],
      "source": [
        "AND = {'X':[[0,0],[0,1],[1,0],[1,1]], 'Y': [0,0,0,1]}\n",
        "OR = {'X':[[0,0],[0,1],[1,0],[1,1]], 'Y': [0,1,1,1]}\n",
        "NOT = {'X':[[0],[1]], 'Y': [0,1]}\n",
        "NAND = {'X':[[0,0],[0,1],[1,0],[1,1]], 'Y': [1,1,1,0]}\n",
        "XOR = {'X':[[0,0],[0,1],[1,0],[1,1]], 'Y': [0,1,1,0]}\n",
        "NOR = {'X':[[0,0],[0,1],[1,0],[1,1]], 'Y': [1,0,0,0]}\n",
        "\n",
        "print(((AND['X'])))"
      ]
    },
    {
      "cell_type": "markdown",
      "source": [
        "Class of MP neuron"
      ],
      "metadata": {
        "id": "EbLh-HiYLyAm"
      }
    },
    {
      "cell_type": "code",
      "source": [
        "class MPNeuron:\n",
        "  def __init__(self):\n",
        "    self.w = None\n",
        "    self.b = None\n",
        "\n",
        "  def"
      ],
      "metadata": {
        "id": "F1uKQ4dWLqJi"
      },
      "execution_count": null,
      "outputs": []
    }
  ]
}